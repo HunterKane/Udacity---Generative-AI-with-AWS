{
 "cells": [
  {
   "cell_type": "markdown",
   "id": "12ca440b",
   "metadata": {},
   "source": [
    "## Create A Tech Gadget Customer Support Chatbot\n",
    "\n",
    "Imagine you own an online store that sells various tech gadgets. You often receive common questions regarding product specifications, return policies, shipping methods, and technical troubleshooting. To streamline customer support and provide immediate assistance, you decide to implement a simple chatbot.\n",
    "\n",
    "**In this exercise you will use Amazon SageMaker to create a chatbot that can respond to customer inquiries about:**\n",
    "\n",
    "- Product Information (e.g., \"Tell me about product X\", \"Do you have smartwatches?\")\n",
    "- Shipping Details (e.g., \"How long does shipping take?\", \"What shipping methods are available?\")\n",
    "- Return Policy (e.g., \"What is your return policy?\", \"How do I return a product?\")\n",
    "- Technical Support (e.g., \"My gadget won’t turn on\", \"How do I reset my device?\")\n",
    "- What Your Chatbot Can Do\n",
    "\n",
    "**The chatbot should be able to:**\n",
    "\n",
    "- Greet the user.\n",
    "- Understand and respond to specific questions about products, shipping, returns, and support.\n",
    "- Provide a default response for unrecognized queries.\n",
    "- Politely end the conversation."
   ]
  },
  {
   "cell_type": "code",
   "execution_count": 3,
   "id": "e10d2c0e",
   "metadata": {},
   "outputs": [
    {
     "name": "stdout",
     "output_type": "stream",
     "text": [
      "You: open\n",
      "Bot:  Sorry I'm not sure how to respond to that. Could you try asking in a simple question?\n",
      "You: open hours\n",
      "Bot: We are open from 9-5pm Monday to Sunday.\n",
      "You: return policy \n",
      "Bot: You can return products within 30 days of receipt for a full refund.\n",
      "You: customer service\n",
      "Bot: Goodbye! If you have any more questions, we're here to help. For customer service please contact 480-xxx-xxx\n"
     ]
    }
   ],
   "source": [
    "# Simple Customer Support Chatbot\n",
    "\n",
    "responses = {\n",
    "    \n",
    "    \n",
    "    # Intro responses \n",
    "    \"hi\": \"Hello! Welcome to TechGadget Support. How can I assist you today?\",\n",
    "    \"hello\": \"Hello! Welcome to TechGadget Support. How can I assist you today?\",\n",
    "    \"hey\": \"Hello! Welcome to TechGadget Support. How can I assist you today?\",\n",
    "    \n",
    "    # Product responses\n",
    "    \"do you have smartwatches\": \"Yes, we have a variety of smartwatches. You can check them out on our products page.\",\n",
    "    \n",
    "    \n",
    "    # Shipping responses\n",
    "    \"shipping time\": \"Shipping usually takes 3-5 business days.\",\n",
    "    \"shipping methods\": \"We offer standard, expedited, and overnight shipping.\",\n",
    "    \n",
    "    \n",
    "    # Return policy \n",
    "    \"return policy\": \"You can return products within 30 days of receipt for a full refund.\",\n",
    "    \"how to return\": \"To return a product, please visit our returns page for a step-by-step guide.\",\n",
    "    \n",
    "    \n",
    "    # Problem solving \n",
    "    \"won’t turn on\": \"Make sure your gadget is charged. If it still won’t turn on, you can visit our troubleshooting page.\",\n",
    "    \"reset device\": \"To reset your device, hold down the power button for 10 seconds. If that doesn't work, please check the manual for a factory reset.\",\n",
    "    \n",
    "    #Store hours responses\n",
    "    \"open hours\": \"We are open from 9-5pm Monday to Sunday.\",\n",
    "    \"Closed\": \"We are closed on all days after 5pm.\",\n",
    "    \n",
    "    # Ending the conversation responses\n",
    "    \"bye\": \"Thank you for visiting TechGadget. If you have more questions, feel free to ask. Goodbye!\"\n",
    "}\n",
    "\n",
    "def get_bot_response(user_input):\n",
    "    user_input = user_input.lower()\n",
    "\n",
    "    for keyword, response in responses.items():\n",
    "        if keyword in user_input:\n",
    "            return response\n",
    "\n",
    "    return \" Sorry I'm not sure how to respond to that. Could you try asking in a simple question?\"\n",
    "\n",
    "while True:\n",
    "    user_input = input(\"You: \")\n",
    "    if user_input.lower() in [\"quit\", \"exit\", \"bye\", \"end\", \"customer service\"]:\n",
    "        print(\"Bot: Goodbye! If you have any more questions, we're here to help. For customer service please contact 480-xxx-xxx\")\n",
    "        break\n",
    "\n",
    "    response = get_bot_response(user_input)\n",
    "    print(f\"Bot: {response}\")"
   ]
  },
  {
   "cell_type": "markdown",
   "id": "79f53db3",
   "metadata": {},
   "source": [
    "---------------------------------"
   ]
  },
  {
   "cell_type": "markdown",
   "id": "0730af88",
   "metadata": {},
   "source": [
    "### Insight \n",
    "\n",
    "Basic chatbot can respond to inputs from the user, however it is very sensitive to spelling and the words used by the user. Improving the flexiblity of what the user can input while the chatbots still answering correctly would greatly improve this chatbot model. "
   ]
  },
  {
   "cell_type": "code",
   "execution_count": null,
   "id": "47bf32f6",
   "metadata": {},
   "outputs": [],
   "source": []
  }
 ],
 "metadata": {
  "kernelspec": {
   "display_name": "conda_python3",
   "language": "python",
   "name": "conda_python3"
  },
  "language_info": {
   "codemirror_mode": {
    "name": "ipython",
    "version": 3
   },
   "file_extension": ".py",
   "mimetype": "text/x-python",
   "name": "python",
   "nbconvert_exporter": "python",
   "pygments_lexer": "ipython3",
   "version": "3.10.13"
  }
 },
 "nbformat": 4,
 "nbformat_minor": 5
}
